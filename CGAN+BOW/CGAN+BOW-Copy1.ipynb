{
 "cells": [
  {
   "cell_type": "code",
   "execution_count": 17,
   "metadata": {},
   "outputs": [
    {
     "name": "stdout",
     "output_type": "stream",
     "text": [
      "[nltk_data] Downloading package stopwords to /root/nltk_data...\n",
      "[nltk_data]   Package stopwords is already up-to-date!\n",
      "[nltk_data] Downloading package wordnet to /root/nltk_data...\n",
      "[nltk_data]   Package wordnet is already up-to-date!\n",
      "[nltk_data] Downloading package punkt to /root/nltk_data...\n",
      "[nltk_data]   Package punkt is already up-to-date!\n"
     ]
    }
   ],
   "source": [
    "import nltk\n",
    "nltk.download('stopwords')\n",
    "nltk.download('wordnet')\n",
    "nltk.download('punkt')\n",
    "# load all necessary libraries\n",
    "import pandas as pd\n",
    "import numpy as np # linear algebra\n",
    "import random\n",
    "from sklearn.feature_extraction.text import CountVectorizer\n",
    "from sklearn.feature_extraction.text import TfidfVectorizer\n",
    "from sklearn import metrics\n",
    "from sklearn.metrics import confusion_matrix as sk_confusion_matrix\n",
    "from sklearn.metrics import roc_curve, auc\n",
    "import matplotlib.pyplot as plt\n",
    "\n",
    "\n",
    "from sklearn.naive_bayes import MultinomialNB\n",
    "from sklearn.model_selection  import train_test_split\n",
    "from nltk.tokenize import word_tokenize\n",
    "from nltk.corpus import stopwords\n",
    "from nltk.stem.porter import PorterStemmer\n",
    "from nltk.stem import WordNetLemmatizer\n",
    "\n",
    "\n",
    "from gensim.models.word2vec import Word2Vec\n",
    "from gensim import models\n",
    "from gensim.models import KeyedVectors\n",
    "\n",
    "\n",
    "from sklearn.linear_model import LogisticRegression\n",
    "from numpy import expand_dims\n",
    "from numpy import zeros\n",
    "from numpy import ones\n",
    "from numpy.random import randn\n",
    "from numpy.random import randint\n",
    "from keras.datasets.fashion_mnist import load_data\n",
    "from keras.optimizers import Adam\n",
    "from keras.models import Sequential\n",
    "from keras.layers import Dense\n",
    "from keras.layers import Reshape\n",
    "from keras.layers import Flatten\n",
    "from keras.layers import Conv2D,Lambda,BatchNormalization,Activation\n",
    "from keras.layers import Conv1D\n",
    "from keras.layers import Conv2DTranspose\n",
    "from keras.layers import LeakyReLU\n",
    "from keras.layers import Dropout\n",
    "from keras.layers import multiply\n",
    "from keras.models import Model\n",
    "import keras.backend as K\n",
    "from matplotlib import pyplot\n",
    "import tensorflow as tf\n",
    "from keras.layers import Input\n",
    "from keras.layers import Embedding\n",
    "from keras.layers import Concatenate"
   ]
  },
  {
   "cell_type": "code",
   "execution_count": null,
   "metadata": {},
   "outputs": [],
   "source": []
  },
  {
   "cell_type": "code",
   "execution_count": 18,
   "metadata": {},
   "outputs": [],
   "source": [
    "def evaluationStats(y_test,y_pred_class,y_pred_proba):\n",
    "    print(\"ACCURACY        :\",metrics.accuracy_score(y_test, y_pred_class))\n",
    "    print(\"PRECISION SCORE :\",metrics.precision_score(y_test, y_pred_class))\n",
    "    print(\"RECALL SCORE    :\", metrics.recall_score(y_test, y_pred_class))\n",
    "    print(\"F1 SCORE        :\",metrics.f1_score(y_test, y_pred_class))\n",
    "    false_positive_rate, true_positive_rate, thresholds = roc_curve(y_test, y_pred_proba[:,1])\n",
    "    roc_auc = auc(false_positive_rate, true_positive_rate)\n",
    "    # area under the curve\n",
    "    print (\"AUC SCORE      :\",roc_auc)\n",
    "    %matplotlib inline  \n",
    "    plt.ylabel('True Positive Rate')\n",
    "    plt.xlabel('False Positive Rate')\n",
    "    plt.title('ROC')\n",
    "    plt.plot(false_positive_rate, true_positive_rate)"
   ]
  },
  {
   "cell_type": "code",
   "execution_count": 19,
   "metadata": {},
   "outputs": [],
   "source": [
    "## initialise the inbuilt Stemmer and the Lemmatizer\n",
    "stemmer = PorterStemmer()\n",
    "wordnet_lemmatizer = WordNetLemmatizer()\n",
    "\n",
    "def preprocess(document, stem=True):\n",
    "    'changes document to lower case, removes stopwords and lemmatizes/stems the remainder of the sentence'\n",
    "\n",
    "    # change sentence to lower case\n",
    "    document = document.lower()\n",
    "\n",
    "    # tokenize into words\n",
    "    words = word_tokenize(document)\n",
    "\n",
    "    # remove stop words\n",
    "    words = [word for word in words if word not in stopwords.words(\"english\")]\n",
    "\n",
    "    if stem:\n",
    "        words = [stemmer.stem(word) for word in words]\n",
    "    else:\n",
    "        words = [wordnet_lemmatizer.lemmatize(word, pos='v') for word in words]\n",
    "\n",
    "    # join words to make sentence\n",
    "    document = \" \".join(words)\n",
    "\n",
    "    return document"
   ]
  },
  {
   "cell_type": "code",
   "execution_count": 20,
   "metadata": {},
   "outputs": [],
   "source": [
    "\n",
    "seq_len = max_len = 1024\n",
    "b_size = 128\n",
    "n_chan = 10\n",
    "f_size = 3 # filter size\n",
    "img_shape = (1024, 1)\n",
    "z_dim = 1024\n",
    "num_classes = 2"
   ]
  },
  {
   "cell_type": "code",
   "execution_count": 21,
   "metadata": {},
   "outputs": [
    {
     "name": "stdout",
     "output_type": "stream",
     "text": [
      "Training set size :  649\n",
      "Test set size :  320\n"
     ]
    }
   ],
   "source": [
    "\n",
    "data = pd.read_csv(\"./../deceptive-opinion.csv\")\n",
    "data = data.loc[:,['text','deceptive']]\n",
    "\n",
    "# stem messages\n",
    "#messages = [preprocess(message, stem=True) for message in data.text]\n",
    "data.text = data.text.apply(lambda message : preprocess(message, stem=False))\n",
    "data['deceptive'] = data.deceptive.map({'truthful':1, 'deceptive':0})\n",
    "\n",
    "X = data.text\n",
    "y = data.deceptive\n",
    "#X_train, X_test, y_train, y_test = train_test_split(X, y,  test_size = 0.20,random_state=1)\n",
    "\n",
    "\n",
    "df_train, df_test= train_test_split(data,  test_size = 0.20,random_state=1)\n",
    "df_truthful = df_train.loc[df_train.deceptive == 1,:]\n",
    "X_train = df_truthful.text\n",
    "X_test=df_test.text\n",
    "y_train= df_truthful.deceptive\n",
    "y_test=df_test.deceptive\n",
    "\n",
    "print('Training set size : ', (X_train.shape[0]))\n",
    "print('Test set size : ', (X_test.shape[0]))\n",
    "\n",
    "bow_model = CountVectorizer(stop_words='english',max_features=max_len)\n",
    "\n",
    "X_train_bow = bow_model.fit_transform(X_train)\n",
    "X_test_bow = bow_model.transform(X_test)"
   ]
  },
  {
   "cell_type": "code",
   "execution_count": 22,
   "metadata": {},
   "outputs": [
    {
     "data": {
      "text/plain": [
       "((649, 1024), (320, 1024))"
      ]
     },
     "execution_count": 22,
     "metadata": {},
     "output_type": "execute_result"
    }
   ],
   "source": [
    "X_train_bow.shape,X_test_bow.shape"
   ]
  },
  {
   "cell_type": "code",
   "execution_count": 23,
   "metadata": {},
   "outputs": [
    {
     "name": "stdout",
     "output_type": "stream",
     "text": [
      "[[0 0 0 ... 0 1 0]]\n"
     ]
    }
   ],
   "source": [
    "print(X_train_bow[0].toarray())"
   ]
  },
  {
   "cell_type": "code",
   "execution_count": 24,
   "metadata": {},
   "outputs": [],
   "source": [
    "vocab_size = X_train_bow.shape[1]"
   ]
  },
  {
   "cell_type": "code",
   "execution_count": 25,
   "metadata": {},
   "outputs": [
    {
     "name": "stdout",
     "output_type": "stream",
     "text": [
      "Pad sequences (samples x time)\n",
      "x_train shape: (649, 1024)\n",
      "x_test shape: (320, 1024)\n"
     ]
    }
   ],
   "source": [
    "from keras.preprocessing import sequence\n",
    "\n",
    "\n",
    "\n",
    "print('Pad sequences (samples x time)')\n",
    "x_train = sequence.pad_sequences(X_train_bow.toarray(), maxlen=max_len)\n",
    "x_test = sequence.pad_sequences(X_test_bow.toarray(), maxlen=max_len)\n",
    "print('x_train shape:', x_train.shape)\n",
    "print('x_test shape:', x_test.shape)"
   ]
  },
  {
   "cell_type": "code",
   "execution_count": 26,
   "metadata": {},
   "outputs": [],
   "source": [
    "\n",
    "def load_real_samples():\n",
    "    # load dataset\n",
    "    return (x_train,y_train),(x_test,y_test)"
   ]
  },
  {
   "cell_type": "markdown",
   "metadata": {},
   "source": [
    "## Discriminator"
   ]
  },
  {
   "cell_type": "code",
   "execution_count": 27,
   "metadata": {},
   "outputs": [],
   "source": [
    "# define the standalone discriminator model\n",
    "def define_discriminator(in_shape=(max_len,1), n_classes=2):\n",
    "# in_shape=(max_len,1) \n",
    "# n_classes=2\n",
    "    img = Input(shape=in_shape)\n",
    "\n",
    "    label = Input(shape=(1,), dtype='int32')\n",
    "\n",
    "    # embedding layer:\n",
    "    # turns labels into dense vectors \n",
    "    # produces 3D tensor \n",
    "    label_embedding = Embedding(input_dim=n_classes, output_dim=np.prod(in_shape), input_length=1)(label)\n",
    "    # Flatten the embedding 3D tensor into 2D  tensor \n",
    "    label_embedding = Flatten()(label_embedding)\n",
    "    # Reshape label embeddings to have same dimensions as input data\n",
    "    label_embedding = Reshape(img_shape)(label_embedding)\n",
    "\n",
    "    # concatenate data with corresponding label embeddings\n",
    "    concatenated = Concatenate(axis=-1)([img, label_embedding])\n",
    "\n",
    "    print(concatenated.shape)\n",
    "\n",
    "\n",
    "    D = Sequential()\n",
    "    print(concatenated.shape)\n",
    "\n",
    "    D.add(Conv1D(n_chan,f_size,activation='relu',input_shape = (seq_len,2)))\n",
    "    D.add(Flatten())\n",
    "    D.add(Dense(1, activation='sigmoid'))\n",
    "    D.compile(optimizer='adam', loss='binary_crossentropy',  metrics=['accuracy'])\n",
    "    D.summary()\n",
    "\n",
    "    model = D(concatenated)\n",
    "    return Model([img, label], model)\n",
    "\n",
    "\n",
    " \n",
    " \n",
    " \n"
   ]
  },
  {
   "cell_type": "markdown",
   "metadata": {},
   "source": [
    "## Generator"
   ]
  },
  {
   "cell_type": "code",
   "execution_count": 28,
   "metadata": {},
   "outputs": [],
   "source": [
    "# define the standalone generator model\n",
    "def define_generator(latent_dim, n_classes=2):\n",
    "\n",
    "    def Conv1DTranspose(inp,nf,ks,s=2,p='same'):\n",
    "        x1 = Lambda(lambda x : K.expand_dims(x,axis=2))(inp)\n",
    "        x2 = Conv2DTranspose(filters=nf,kernel_size=(ks,1),strides=(s,1),padding=p)(x1)\n",
    "        return Lambda(lambda x :K.squeeze(x,axis=2))(x2)\n",
    "    \n",
    "    z_dim = latent_dim\n",
    "    \n",
    "    z = Input(shape=(z_dim, ))\n",
    "    \n",
    "    # Conditioning label\n",
    "    label = Input(shape=(1,), dtype='int32')\n",
    "    \n",
    "    # embedding layer:\n",
    "\n",
    "    label_embedding = Embedding(n_classes, z_dim, input_length=1)(label)\n",
    "    \n",
    "    # Flatten the embedding 3D tensor into 2D  tensor with shape: (batch_size, z_dim)\n",
    "    label_embedding = Flatten()(label_embedding)\n",
    "    \n",
    "    # Element-wise product of the vectors z and the label embeddings\n",
    "    joined_representation = multiply([z, label_embedding])\n",
    "\n",
    "    G = Sequential()\n",
    "    G.add(Dense(int(seq_len/8)*n_chan,input_shape=(latent_dim,)))\n",
    "    G.add(Reshape((int(seq_len/8),n_chan)))\n",
    "    G.add(BatchNormalization(momentum= 0.8,epsilon=1.e-5))\n",
    "    for i in range(0,2):\n",
    "        G.add(Lambda(lambda x : Conv1DTranspose(x,n_chan,f_size)))\n",
    "        G.add(BatchNormalization(momentum= 0.8,epsilon=1.e-5))\n",
    "\n",
    "    G.add(Lambda(lambda x : Conv1DTranspose(x,1,3)))\n",
    "    G.add(Activation('sigmoid'))\n",
    "    G.summary()\n",
    "    \n",
    "    model = G(joined_representation)\n",
    "    \n",
    "    return Model([z, label], model)\n",
    "\n",
    "    \n",
    "\n",
    " \n"
   ]
  },
  {
   "cell_type": "markdown",
   "metadata": {},
   "source": [
    "## Define GAN"
   ]
  },
  {
   "cell_type": "code",
   "execution_count": 29,
   "metadata": {},
   "outputs": [
    {
     "name": "stdout",
     "output_type": "stream",
     "text": [
      "(?, 1024, 2)\n",
      "(?, 1024, 2)\n",
      "_________________________________________________________________\n",
      "Layer (type)                 Output Shape              Param #   \n",
      "=================================================================\n",
      "conv1d_2 (Conv1D)            (None, 1022, 10)          70        \n",
      "_________________________________________________________________\n",
      "flatten_5 (Flatten)          (None, 10220)             0         \n",
      "_________________________________________________________________\n",
      "dense_3 (Dense)              (None, 1)                 10221     \n",
      "=================================================================\n",
      "Total params: 10,291\n",
      "Trainable params: 10,291\n",
      "Non-trainable params: 0\n",
      "_________________________________________________________________\n",
      "_________________________________________________________________\n",
      "Layer (type)                 Output Shape              Param #   \n",
      "=================================================================\n",
      "dense_4 (Dense)              (None, 1280)              1312000   \n",
      "_________________________________________________________________\n",
      "reshape_4 (Reshape)          (None, 128, 10)           0         \n",
      "_________________________________________________________________\n",
      "batch_normalization_4 (Batch (None, 128, 10)           40        \n",
      "_________________________________________________________________\n",
      "lambda_40 (Lambda)           (None, 256, 10)           0         \n",
      "_________________________________________________________________\n",
      "batch_normalization_5 (Batch (None, 256, 10)           40        \n",
      "_________________________________________________________________\n",
      "lambda_45 (Lambda)           (None, 512, 10)           0         \n",
      "_________________________________________________________________\n",
      "batch_normalization_6 (Batch (None, 512, 10)           40        \n",
      "_________________________________________________________________\n",
      "lambda_50 (Lambda)           (None, 1024, 1)           0         \n",
      "_________________________________________________________________\n",
      "activation_2 (Activation)    (None, 1024, 1)           0         \n",
      "=================================================================\n",
      "Total params: 1,312,120\n",
      "Trainable params: 1,312,060\n",
      "Non-trainable params: 60\n",
      "_________________________________________________________________\n"
     ]
    }
   ],
   "source": [
    "disc = define_discriminator()\n",
    "disc.compile(loss='binary_crossentropy', metrics=['accuracy'], optimizer=Adam())\n",
    "\n",
    "# build the generator\n",
    "gen = define_generator(z_dim)\n",
    "\n",
    "# the generator takes noise and the target label as input\n",
    "# and generates the corresponding digit for that label\n",
    "z = Input(shape=(z_dim,))\n",
    "label = Input(shape=(1,))\n",
    "\n",
    "img = gen([z, label])\n",
    "\n",
    "# keep the discriminator's params constant for generator training\n",
    "disc.trainable = False\n",
    "\n",
    "prediction = disc([img, label])\n",
    "\n",
    "# Conditional (Conditional) GAN model with fixed discriminator to train the generator\n",
    "cgan = Model([z, label], prediction)\n",
    "cgan.compile(loss='binary_crossentropy', optimizer=Adam())"
   ]
  },
  {
   "cell_type": "code",
   "execution_count": 30,
   "metadata": {},
   "outputs": [],
   "source": [
    "def plot_history(d1_hist, d2_hist, g_hist):\n",
    "    # plot history\n",
    "    pyplot.title(\"CGAN+BOW\")\n",
    "    pyplot.plot(d1_hist, label='disc_real')\n",
    "    pyplot.plot(d2_hist, label='disc_fake')\n",
    "    pyplot.plot(g_hist, label='gen')\n",
    "    pyplot.legend()\n",
    "    pyplot.savefig('CGAN_BOW_line_plot_loss.png')\n",
    "    pyplot.close()"
   ]
  },
  {
   "cell_type": "code",
   "execution_count": 31,
   "metadata": {},
   "outputs": [],
   "source": [
    "accuracies = []\n",
    "losses = []\n",
    "\n",
    "def train(iterations, batch_size, sample_interval):\n",
    "    \n",
    "    (X_train, y_train), (_, _) = load_real_samples()\n",
    "\n",
    "    real = np.ones(shape=(batch_size, 1))\n",
    "    fake = np.zeros(shape=(batch_size, 1))\n",
    "    c1_hist, c2_hist, g_hist = list(), list(), list()\n",
    "    for iteration in range(iterations):\n",
    "\n",
    "        idx = np.random.randint(0, X_train.shape[0], batch_size)\n",
    "        \n",
    "        imgs, labels = X_train[idx], np.array(y_train)[idx]\n",
    "\n",
    "        \n",
    "        z = np.random.normal(0, 1, size=(batch_size, z_dim))\n",
    "        \n",
    "        gen_imgs = gen.predict([z, labels])\n",
    "        #print(gen_imgs.shape)\n",
    "        \n",
    "        d_loss_real = disc.train_on_batch([imgs.reshape(128,max_len,1), labels], real)\n",
    "        d_loss_fake = disc.train_on_batch([gen_imgs, labels], fake)\n",
    "        d_loss = 0.5 * np.add(d_loss_real, d_loss_fake)\n",
    "        \n",
    "        z = np.random.normal(0, 1, size=(batch_size, z_dim))\n",
    "        labels = np.random.randint(0, num_classes, batch_size).reshape(-1, 1)\n",
    "        \n",
    "        g_loss = cgan.train_on_batch([z, labels], real)\n",
    "        \n",
    "        c1_hist.append(d_loss_real[0])\n",
    "        c2_hist.append(d_loss_fake[0])\n",
    "        g_hist.append(g_loss)\n",
    "        \n",
    "        if iteration % sample_interval == 0:\n",
    "            print('{} [D loss: {}, accuracy: {:.2f}] [D1 loss: {}][D2 loss: {}][G loss: {}]'.format(iteration, d_loss[0], 100 * d_loss[1],d_loss_real,d_loss_fake, g_loss))\n",
    "        \n",
    "            losses.append((d_loss[0], g_loss))\n",
    "            accuracies.append(d_loss[1])\n",
    "            \n",
    "\n",
    "            \n",
    "    plot_history(c1_hist, c2_hist, g_hist)\n",
    "    "
   ]
  },
  {
   "cell_type": "code",
   "execution_count": null,
   "metadata": {},
   "outputs": [],
   "source": []
  },
  {
   "cell_type": "code",
   "execution_count": 32,
   "metadata": {},
   "outputs": [
    {
     "name": "stderr",
     "output_type": "stream",
     "text": [
      "/mnt/disks/user/anaconda3/lib/python3.6/site-packages/keras/engine/training.py:479: UserWarning: Discrepancy between trainable weights and collected trainable weights, did you set `model.trainable` without calling `model.compile` after ?\n",
      "  'Discrepancy between trainable weights and collected trainable'\n"
     ]
    },
    {
     "name": "stdout",
     "output_type": "stream",
     "text": [
      "0 [D loss: 0.9367610812187195, accuracy: 40.23] [D1 loss: [0.6604016, 0.8046875]][D2 loss: [1.2131206, 0.0]][G loss: 0.5239591002464294]\n",
      "1 [D loss: 0.6606132984161377, accuracy: 70.31] [D1 loss: [0.61895496, 0.984375]][D2 loss: [0.7022717, 0.421875]][G loss: 0.9475960731506348]\n",
      "2 [D loss: 0.49063193798065186, accuracy: 97.27] [D1 loss: [0.6383525, 0.9453125]][D2 loss: [0.34291136, 1.0]][G loss: 1.5195965766906738]\n",
      "3 [D loss: 0.4054676592350006, accuracy: 93.36] [D1 loss: [0.6480713, 0.8671875]][D2 loss: [0.16286403, 1.0]][G loss: 2.13370418548584]\n",
      "4 [D loss: 0.3647836148738861, accuracy: 92.97] [D1 loss: [0.647835, 0.859375]][D2 loss: [0.08173223, 1.0]][G loss: 2.659886121749878]\n",
      "5 [D loss: 0.33868199586868286, accuracy: 94.92] [D1 loss: [0.6317525, 0.8984375]][D2 loss: [0.045611504, 1.0]][G loss: 3.0893685817718506]\n",
      "6 [D loss: 0.3197418451309204, accuracy: 94.92] [D1 loss: [0.61070216, 0.8984375]][D2 loss: [0.02878156, 1.0]][G loss: 3.442274808883667]\n",
      "7 [D loss: 0.28733816742897034, accuracy: 99.22] [D1 loss: [0.5540881, 0.984375]][D2 loss: [0.020588199, 1.0]][G loss: 3.651254653930664]\n",
      "8 [D loss: 0.25549545884132385, accuracy: 98.83] [D1 loss: [0.49508226, 0.9765625]][D2 loss: [0.015908686, 1.0]][G loss: 3.820303440093994]\n",
      "9 [D loss: 0.22475282847881317, accuracy: 99.22] [D1 loss: [0.4361183, 0.984375]][D2 loss: [0.013387366, 1.0]][G loss: 3.892834424972534]\n",
      "10 [D loss: 0.18803317844867706, accuracy: 100.00] [D1 loss: [0.36422333, 1.0]][D2 loss: [0.011843031, 1.0]][G loss: 3.8870432376861572]\n",
      "11 [D loss: 0.16001029312610626, accuracy: 100.00] [D1 loss: [0.30900842, 1.0]][D2 loss: [0.011012168, 1.0]][G loss: 3.8806543350219727]\n",
      "12 [D loss: 0.12349305301904678, accuracy: 100.00] [D1 loss: [0.23638281, 1.0]][D2 loss: [0.0106032975, 1.0]][G loss: 3.8327407836914062]\n",
      "13 [D loss: 0.09622834622859955, accuracy: 100.00] [D1 loss: [0.18205671, 1.0]][D2 loss: [0.010399988, 1.0]][G loss: 3.7412312030792236]\n",
      "14 [D loss: 0.07516724616289139, accuracy: 100.00] [D1 loss: [0.13984466, 1.0]][D2 loss: [0.010489838, 1.0]][G loss: 3.6886181831359863]\n",
      "15 [D loss: 0.05776858329772949, accuracy: 100.00] [D1 loss: [0.1051988, 1.0]][D2 loss: [0.010338364, 1.0]][G loss: 3.593142509460449]\n",
      "16 [D loss: 0.046354006975889206, accuracy: 100.00] [D1 loss: [0.082333356, 1.0]][D2 loss: [0.010374659, 1.0]][G loss: 3.5410428047180176]\n",
      "17 [D loss: 0.03762153536081314, accuracy: 100.00] [D1 loss: [0.064933315, 1.0]][D2 loss: [0.010309756, 1.0]][G loss: 3.4644768238067627]\n",
      "18 [D loss: 0.027983734384179115, accuracy: 100.00] [D1 loss: [0.045711793, 1.0]][D2 loss: [0.010255675, 1.0]][G loss: 3.3975541591644287]\n",
      "19 [D loss: 0.022297635674476624, accuracy: 100.00] [D1 loss: [0.034511097, 1.0]][D2 loss: [0.010084175, 1.0]][G loss: 3.339193105697632]\n"
     ]
    }
   ],
   "source": [
    "iterations = 20\n",
    "batch_size = 128\n",
    "sample_interval = 1#1000\n",
    "\n",
    "train(iterations, batch_size, sample_interval)"
   ]
  },
  {
   "cell_type": "code",
   "execution_count": null,
   "metadata": {},
   "outputs": [],
   "source": []
  },
  {
   "cell_type": "code",
   "execution_count": null,
   "metadata": {},
   "outputs": [],
   "source": []
  },
  {
   "cell_type": "code",
   "execution_count": null,
   "metadata": {},
   "outputs": [],
   "source": []
  },
  {
   "cell_type": "code",
   "execution_count": null,
   "metadata": {},
   "outputs": [],
   "source": []
  },
  {
   "cell_type": "code",
   "execution_count": null,
   "metadata": {},
   "outputs": [],
   "source": []
  },
  {
   "cell_type": "code",
   "execution_count": null,
   "metadata": {},
   "outputs": [],
   "source": []
  },
  {
   "cell_type": "code",
   "execution_count": null,
   "metadata": {},
   "outputs": [],
   "source": []
  },
  {
   "cell_type": "code",
   "execution_count": null,
   "metadata": {},
   "outputs": [],
   "source": []
  },
  {
   "cell_type": "code",
   "execution_count": null,
   "metadata": {},
   "outputs": [],
   "source": []
  },
  {
   "cell_type": "code",
   "execution_count": null,
   "metadata": {},
   "outputs": [],
   "source": []
  }
 ],
 "metadata": {
  "kernelspec": {
   "display_name": "Python 3",
   "language": "python",
   "name": "python3"
  },
  "language_info": {
   "codemirror_mode": {
    "name": "ipython",
    "version": 3
   },
   "file_extension": ".py",
   "mimetype": "text/x-python",
   "name": "python",
   "nbconvert_exporter": "python",
   "pygments_lexer": "ipython3",
   "version": "3.6.5"
  }
 },
 "nbformat": 4,
 "nbformat_minor": 2
}
