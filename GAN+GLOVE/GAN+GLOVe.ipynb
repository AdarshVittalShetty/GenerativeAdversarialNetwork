{
 "cells": [
  {
   "cell_type": "code",
   "execution_count": 1,
   "metadata": {},
   "outputs": [
    {
     "name": "stdout",
     "output_type": "stream",
     "text": [
      "[nltk_data] Downloading package stopwords to /root/nltk_data...\n",
      "[nltk_data]   Package stopwords is already up-to-date!\n",
      "[nltk_data] Downloading package wordnet to /root/nltk_data...\n",
      "[nltk_data]   Package wordnet is already up-to-date!\n",
      "[nltk_data] Downloading package punkt to /root/nltk_data...\n",
      "[nltk_data]   Package punkt is already up-to-date!\n"
     ]
    },
    {
     "name": "stderr",
     "output_type": "stream",
     "text": [
      "/mnt/disks/user/anaconda3/lib/python3.6/site-packages/gensim/similarities/__init__.py:15: UserWarning: The gensim.similarities.levenshtein submodule is disabled, because the optional Levenshtein package <https://pypi.org/project/python-Levenshtein/> is unavailable. Install Levenhstein (e.g. `pip install python-Levenshtein`) to suppress this warning.\n",
      "  warnings.warn(msg)\n",
      "Using TensorFlow backend.\n",
      "/mnt/disks/user/anaconda3/lib/python3.6/site-packages/tensorflow/python/framework/dtypes.py:523: FutureWarning: Passing (type, 1) or '1type' as a synonym of type is deprecated; in a future version of numpy, it will be understood as (type, (1,)) / '(1,)type'.\n",
      "  _np_qint8 = np.dtype([(\"qint8\", np.int8, 1)])\n",
      "/mnt/disks/user/anaconda3/lib/python3.6/site-packages/tensorflow/python/framework/dtypes.py:524: FutureWarning: Passing (type, 1) or '1type' as a synonym of type is deprecated; in a future version of numpy, it will be understood as (type, (1,)) / '(1,)type'.\n",
      "  _np_quint8 = np.dtype([(\"quint8\", np.uint8, 1)])\n",
      "/mnt/disks/user/anaconda3/lib/python3.6/site-packages/tensorflow/python/framework/dtypes.py:525: FutureWarning: Passing (type, 1) or '1type' as a synonym of type is deprecated; in a future version of numpy, it will be understood as (type, (1,)) / '(1,)type'.\n",
      "  _np_qint16 = np.dtype([(\"qint16\", np.int16, 1)])\n",
      "/mnt/disks/user/anaconda3/lib/python3.6/site-packages/tensorflow/python/framework/dtypes.py:526: FutureWarning: Passing (type, 1) or '1type' as a synonym of type is deprecated; in a future version of numpy, it will be understood as (type, (1,)) / '(1,)type'.\n",
      "  _np_quint16 = np.dtype([(\"quint16\", np.uint16, 1)])\n",
      "/mnt/disks/user/anaconda3/lib/python3.6/site-packages/tensorflow/python/framework/dtypes.py:527: FutureWarning: Passing (type, 1) or '1type' as a synonym of type is deprecated; in a future version of numpy, it will be understood as (type, (1,)) / '(1,)type'.\n",
      "  _np_qint32 = np.dtype([(\"qint32\", np.int32, 1)])\n",
      "/mnt/disks/user/anaconda3/lib/python3.6/site-packages/tensorflow/python/framework/dtypes.py:532: FutureWarning: Passing (type, 1) or '1type' as a synonym of type is deprecated; in a future version of numpy, it will be understood as (type, (1,)) / '(1,)type'.\n",
      "  np_resource = np.dtype([(\"resource\", np.ubyte, 1)])\n"
     ]
    }
   ],
   "source": [
    "import nltk\n",
    "nltk.download('stopwords')\n",
    "nltk.download('wordnet')\n",
    "nltk.download('punkt')\n",
    "# load all necessary libraries\n",
    "import pandas as pd\n",
    "import numpy as np # linear algebra\n",
    "\n",
    "from sklearn.feature_extraction.text import CountVectorizer\n",
    "from sklearn.feature_extraction.text import TfidfVectorizer\n",
    "from sklearn import metrics\n",
    "from sklearn.metrics import confusion_matrix as sk_confusion_matrix\n",
    "from sklearn.metrics import roc_curve, auc\n",
    "import matplotlib.pyplot as plt\n",
    "\n",
    "\n",
    "from sklearn.naive_bayes import MultinomialNB\n",
    "from sklearn.model_selection  import train_test_split\n",
    "from nltk.tokenize import word_tokenize\n",
    "from nltk.corpus import stopwords\n",
    "from nltk.stem.porter import PorterStemmer\n",
    "from nltk.stem import WordNetLemmatizer\n",
    "\n",
    "\n",
    "from gensim.models.word2vec import Word2Vec\n",
    "from gensim import models\n",
    "from gensim.models import KeyedVectors\n",
    "\n",
    "\n",
    "from sklearn.linear_model import LogisticRegression\n",
    "from numpy import expand_dims\n",
    "from numpy import zeros\n",
    "from numpy import ones\n",
    "from numpy.random import randn\n",
    "from numpy.random import randint\n",
    "from keras.datasets.fashion_mnist import load_data\n",
    "from keras.optimizers import Adam\n",
    "from keras.models import Sequential\n",
    "from keras.layers import Dense\n",
    "from keras.layers import Reshape\n",
    "from keras.layers import Flatten\n",
    "from keras.layers import Conv2D,Lambda,BatchNormalization,Activation\n",
    "from keras.layers import Conv1D\n",
    "from keras.layers import Conv2DTranspose\n",
    "from keras.layers import LeakyReLU\n",
    "from keras.layers import Dropout\n",
    "import keras.backend as K\n",
    "\n",
    "import tensorflow as tf\n",
    "from keras.preprocessing import sequence\n",
    "\n",
    "from keras.models import load_model\n",
    "from numpy.random import randn\n",
    "from matplotlib import pyplot\n",
    "from keras.layers import Input,MaxPool1D\n",
    "from keras.models import Model\n",
    "\n",
    "\n",
    "from gensim.scripts.glove2word2vec import glove2word2vec\n",
    "from gensim.models.keyedvectors import KeyedVectors"
   ]
  },
  {
   "cell_type": "code",
   "execution_count": 2,
   "metadata": {},
   "outputs": [],
   "source": [
    "## initialise the inbuilt Stemmer and the Lemmatizer\n",
    "stemmer = PorterStemmer()\n",
    "wordnet_lemmatizer = WordNetLemmatizer()\n",
    "\n",
    "def preprocess(document, stem=True):\n",
    "    'changes document to lower case, removes stopwords and lemmatizes/stems the remainder of the sentence'\n",
    "\n",
    "    # change sentence to lower case\n",
    "    document = document.lower()\n",
    "\n",
    "    # tokenize into words\n",
    "    words = word_tokenize(document)\n",
    "\n",
    "    # remove stop words\n",
    "    words = [word for word in words if word not in stopwords.words(\"english\")]\n",
    "\n",
    "    if stem:\n",
    "        words = [stemmer.stem(word) for word in words]\n",
    "    else:\n",
    "        words = [wordnet_lemmatizer.lemmatize(word, pos='v') for word in words]\n",
    "\n",
    "    # join words to make sentence\n",
    "    document = \" \".join(words)\n",
    "\n",
    "    return document"
   ]
  },
  {
   "cell_type": "code",
   "execution_count": 3,
   "metadata": {},
   "outputs": [],
   "source": [
    "seq_len = max_len = 200 #512\n",
    "b_size = 128\n",
    "n_chan = 10\n",
    "f_size = 3 # filter size\n"
   ]
  },
  {
   "cell_type": "code",
   "execution_count": 4,
   "metadata": {},
   "outputs": [
    {
     "name": "stderr",
     "output_type": "stream",
     "text": [
      "/mnt/disks/user/anaconda3/lib/python3.6/site-packages/ipykernel_launcher.py:3: DeprecationWarning: Call to deprecated `glove2word2vec` (KeyedVectors.load_word2vec_format(.., binary=False, no_header=True) loads GLoVE text vectors.).\n",
      "  This is separate from the ipykernel package so we can avoid doing imports until\n"
     ]
    }
   ],
   "source": [
    "glove_input_file = './../glove.6B.200d.txt'\n",
    "word2vec_output_file = 'glove.6B.200d.w2vformat.txt'\n",
    "glove2word2vec(glove_input_file, word2vec_output_file)\n",
    "glove_model = KeyedVectors.load_word2vec_format(\"glove.6B.200d.w2vformat.txt\", binary=False)"
   ]
  },
  {
   "cell_type": "code",
   "execution_count": 5,
   "metadata": {},
   "outputs": [],
   "source": [
    "def sent_vec(sent):\n",
    "    wv_res = np.zeros(glove_model.vector_size)\n",
    "    ctr = 1\n",
    "    for w in sent:\n",
    "        if w in glove_model:\n",
    "            ctr += 1\n",
    "            wv_res += glove_model[w]\n",
    "    wv_res = wv_res/ctr\n",
    "    #return (wv_res, ctr)\n",
    "    return wv_res"
   ]
  },
  {
   "cell_type": "code",
   "execution_count": 6,
   "metadata": {},
   "outputs": [
    {
     "name": "stdout",
     "output_type": "stream",
     "text": [
      "Training set size :  649\n",
      "Test set size :  320\n"
     ]
    }
   ],
   "source": [
    "\n",
    "data = pd.read_csv(\"./../deceptive-opinion.csv\")\n",
    "data = data.loc[:,['text','deceptive']]\n",
    "\n",
    "# stem messages\n",
    "#messages = [preprocess(message, stem=True) for message in data.text]\n",
    "data.text = data.text.apply(lambda message : preprocess(message, stem=False))\n",
    "data['deceptive'] = data.deceptive.map({'truthful':1, 'deceptive':0})\n",
    "\n",
    "# X = data.text\n",
    "# y = data.deceptive\n",
    "#X_train, X_test, y_train, y_test = train_test_split(X, y,  test_size = 0.30,random_state=1)\n",
    "\n",
    "\n",
    "df_train, df_test= train_test_split(data,  test_size = 0.20,random_state=1)\n",
    "df_truthful = df_train.loc[df_train.deceptive == 1,:]\n",
    "X_train = df_truthful.text\n",
    "X_test=df_test.text\n",
    "y_train= df_truthful.deceptive\n",
    "y_test=df_test.deceptive\n",
    "\n",
    "print('Training set size : ', (X_train.shape[0]))\n",
    "print('Test set size : ', (X_test.shape[0]))\n",
    "\n"
   ]
  },
  {
   "cell_type": "code",
   "execution_count": 7,
   "metadata": {},
   "outputs": [
    {
     "name": "stderr",
     "output_type": "stream",
     "text": [
      "/mnt/disks/user/anaconda3/lib/python3.6/site-packages/ipykernel_launcher.py:7: VisibleDeprecationWarning: Creating an ndarray from ragged nested sequences (which is a list-or-tuple of lists-or-tuples-or ndarrays with different lengths or shapes) is deprecated. If you meant to do this, you must specify 'dtype=object' when creating the ndarray\n",
      "  import sys\n"
     ]
    }
   ],
   "source": [
    "X, y = [], []\n",
    "\n",
    "for idx,row in df_truthful.iterrows():\n",
    "    label, text = row['deceptive'],row['text']\n",
    "    X.append(text.split())\n",
    "    y.append(label)\n",
    "X, y = np.array(X), np.array(y)"
   ]
  },
  {
   "cell_type": "code",
   "execution_count": 8,
   "metadata": {},
   "outputs": [
    {
     "name": "stderr",
     "output_type": "stream",
     "text": [
      "/mnt/disks/user/anaconda3/lib/python3.6/site-packages/ipykernel_launcher.py:6: VisibleDeprecationWarning: Creating an ndarray from ragged nested sequences (which is a list-or-tuple of lists-or-tuples-or ndarrays with different lengths or shapes) is deprecated. If you meant to do this, you must specify 'dtype=object' when creating the ndarray\n",
      "  \n"
     ]
    }
   ],
   "source": [
    "X_test, y_test = [], []\n",
    "for idx,row in df_test.iterrows():\n",
    "    label, text = row['deceptive'],row['text']\n",
    "    X_test.append(text.split())\n",
    "    y_test.append(label)\n",
    "X_test, y_test = np.array(X_test), np.array(y_test)"
   ]
  },
  {
   "cell_type": "code",
   "execution_count": 9,
   "metadata": {},
   "outputs": [],
   "source": [
    "stop_words = stopwords.words(\"english\")\n",
    "train_doc_vecs = pd.DataFrame()\n",
    "for doc in X:    \n",
    "    doc_words = [term for term in doc if term not in stop_words]\n",
    "    b = sent_vec(doc_words)\n",
    "    np_array = np.array(b.tolist())\n",
    "    reshaped_array = np.reshape(np_array, (1,200))\n",
    "    a_dataframe = pd.DataFrame(reshaped_array)\n",
    "    train_doc_vecs = train_doc_vecs.append(a_dataframe)\n",
    "\n",
    "    \n",
    "test_doc_vecs = pd.DataFrame()\n",
    "for doc in X_test:    \n",
    "    doc_words = [term for term in doc if term not in stop_words]\n",
    "    b = sent_vec(doc_words)\n",
    "    np_array = np.array(b.tolist())\n",
    "    reshaped_array = np.reshape(np_array, (1,200))\n",
    "    a_dataframe = pd.DataFrame(reshaped_array)\n",
    "    test_doc_vecs = test_doc_vecs.append(a_dataframe)"
   ]
  },
  {
   "cell_type": "code",
   "execution_count": 10,
   "metadata": {},
   "outputs": [],
   "source": [
    "vocab_size = train_doc_vecs.shape[1]"
   ]
  },
  {
   "cell_type": "code",
   "execution_count": 11,
   "metadata": {},
   "outputs": [
    {
     "name": "stdout",
     "output_type": "stream",
     "text": [
      "Pad sequences (samples x time)\n",
      "x_train shape: (649, 200)\n",
      "x_test shape: (320, 200)\n"
     ]
    }
   ],
   "source": [
    "print('Pad sequences (samples x time)')\n",
    "x_train =  train_doc_vecs.values#sequence.pad_sequences(train_doc_vecs.toarray(), maxlen=max_len)\n",
    "x_test =  test_doc_vecs.values#sequence.pad_sequences(test_doc_vecs.toarray(), maxlen=max_len)\n",
    "print('x_train shape:', x_train.shape)\n",
    "print('x_test shape:', x_test.shape)"
   ]
  },
  {
   "cell_type": "code",
   "execution_count": 12,
   "metadata": {},
   "outputs": [],
   "source": [
    "\n",
    "def define_discriminator(in_shape=(max_len,1)):\n",
    "\n",
    "    D = Sequential()\n",
    "    D.add(Conv1D(n_chan,f_size,activation='relu',input_shape = (seq_len,1)))\n",
    "    D.add(Flatten())\n",
    "    D.add(Dense(1, activation='sigmoid'))\n",
    "    D.compile(optimizer='adam', loss='binary_crossentropy',  metrics=['accuracy'])\n",
    "    return D\n",
    "\n"
   ]
  },
  {
   "cell_type": "code",
   "execution_count": 13,
   "metadata": {},
   "outputs": [],
   "source": [
    "# define the standalone generator model\n",
    "def define_generator(latent_dim):\n",
    "    def Conv1DTranspose(inp,nf,ks,s=2,p='same'):\n",
    "        x1 = Lambda(lambda x : K.expand_dims(x,axis=2))(inp)\n",
    "        x2 = Conv2DTranspose(filters=nf,kernel_size=(ks,1),strides=(s,1),padding=p)(x1)\n",
    "        return Lambda(lambda x :K.squeeze(x,axis=2))(x2)\n",
    "\n",
    "\n",
    "    G = Sequential()\n",
    "    G.add(Dense(int(seq_len/8)*n_chan,input_shape=(latent_dim,)))\n",
    "    G.add(Reshape((int(seq_len/8),n_chan)))\n",
    "    G.add(BatchNormalization(momentum= 0.8,epsilon=1.e-5))\n",
    "    for i in range(0,2):\n",
    "        G.add(Lambda(lambda x : Conv1DTranspose(x,n_chan,f_size)))\n",
    "        G.add(BatchNormalization(momentum= 0.8,epsilon=1.e-5))\n",
    "\n",
    "    G.add(Lambda(lambda x : Conv1DTranspose(x,1,3)))\n",
    "    G.add(Activation('sigmoid'))\n",
    "    G.summary()\n",
    "    return G\n",
    "\n"
   ]
  },
  {
   "cell_type": "code",
   "execution_count": 14,
   "metadata": {},
   "outputs": [],
   "source": [
    "# define the combined generator and discriminator model, for updating the generator\n",
    "def define_gan(generator, discriminator):\n",
    "    # make weights in the discriminator not trainable\n",
    "    discriminator.trainable = False\n",
    "    # connect them\n",
    "    model = Sequential()\n",
    "    # add generator\n",
    "    model.add(generator)\n",
    "    # add the discriminator\n",
    "    model.add(discriminator)\n",
    "    # compile model\n",
    "    opt = Adam(lr=0.0002, beta_1=0.5)\n",
    "    model.compile(loss='binary_crossentropy', optimizer=opt)\n",
    "    return model"
   ]
  },
  {
   "cell_type": "code",
   "execution_count": 15,
   "metadata": {},
   "outputs": [],
   "source": [
    "# load data\n",
    "def load_real_samples():\n",
    "    # load dataset\n",
    "    (trainX, _), (_, _) = (x_train,y_train),(x_test,y_test)#load_data()\n",
    "\n",
    "    return trainX"
   ]
  },
  {
   "cell_type": "code",
   "execution_count": 16,
   "metadata": {},
   "outputs": [],
   "source": [
    "# select real samples\n",
    "def generate_real_samples(dataset, n_samples):\n",
    "    # choose random instances\n",
    "    ix = randint(0, dataset.shape[0], n_samples)\n",
    "    # select data\n",
    "    X = dataset[ix]\n",
    "    # generate class labels\n",
    "    y = ones((n_samples, 1))\n",
    "    return X, y"
   ]
  },
  {
   "cell_type": "code",
   "execution_count": 17,
   "metadata": {},
   "outputs": [],
   "source": [
    "# generate points in latent space as input for the generator\n",
    "def generate_latent_points(latent_dim, n_samples):\n",
    "    # generate points in the latent space\n",
    "    x_input = randn(latent_dim * n_samples)\n",
    "    # reshape into a batch of inputs for the network\n",
    "    x_input = x_input.reshape(n_samples, latent_dim)\n",
    "    return x_input\n",
    " \n",
    "# use the generator to generate n fake examples, with class labels\n",
    "def generate_fake_samples(generator, latent_dim, n_samples):\n",
    "    # generate points in latent space\n",
    "    x_input = generate_latent_points(latent_dim, n_samples)\n",
    "    # predict outputs\n",
    "    X = generator.predict(x_input)\n",
    "    # create class labels\n",
    "    y = zeros((n_samples, 1))\n",
    "    return X, y"
   ]
  },
  {
   "cell_type": "code",
   "execution_count": 18,
   "metadata": {},
   "outputs": [],
   "source": [
    "def plot_history(d1_hist, d2_hist, g_hist):\n",
    "    # plot history\n",
    "    pyplot.title(\"GAN+GLOVE\")\n",
    "    pyplot.plot(d1_hist, label='disc_real')\n",
    "    pyplot.plot(d2_hist, label='disc_fake')\n",
    "    pyplot.plot(g_hist, label='gen')\n",
    "    pyplot.legend()\n",
    "    pyplot.savefig('GAN_GLOVE_line_plot_loss.png')\n",
    "    pyplot.close()"
   ]
  },
  {
   "cell_type": "code",
   "execution_count": 19,
   "metadata": {},
   "outputs": [],
   "source": [
    "# train the generator and discriminator\n",
    "def train(g_model, d_model, gan_model, dataset, latent_dim, n_epochs=20, n_batch=128):\n",
    "    bat_per_epo = int(dataset.shape[0] / n_batch)\n",
    "    half_batch = int(n_batch / 2)\n",
    "    # manually enumerate epochs\n",
    "    c1_hist, c2_hist, g_hist = list(), list(), list()\n",
    "    for i in range(n_epochs):\n",
    "        # enumerate batches over the training set\n",
    "        for j in range(bat_per_epo):\n",
    "            # get randomly selected 'real' samples\n",
    "            X_real, y_real = generate_real_samples(dataset, half_batch)\n",
    "            # update discriminator model weights\n",
    "            d_loss1, _ = d_model.train_on_batch(X_real, y_real)\n",
    "            # generate 'fake' examples\n",
    "            X_fake, y_fake = generate_fake_samples(g_model, latent_dim, half_batch)\n",
    "            # update discriminator model weights\n",
    "            d_loss2, _ = d_model.train_on_batch(X_fake, y_fake)\n",
    "            # prepare points in latent space as input for the generator\n",
    "            X_gan = generate_latent_points(latent_dim, n_batch)\n",
    "            # create inverted labels for the fake samples\n",
    "            y_gan = ones((n_batch, 1))\n",
    "            # update the generator via the discriminator's error\n",
    "            g_loss = gan_model.train_on_batch(X_gan, y_gan)\n",
    "            # summarize loss on this batch\n",
    "            print('>%d, %d/%d, d1=%.3f, d2=%.3f g=%.3f' %\n",
    "            (i+1, j+1, bat_per_epo, d_loss1, d_loss2, g_loss))\n",
    "            c1_hist.append(d_loss1)\n",
    "            c2_hist.append(d_loss2)\n",
    "            g_hist.append(g_loss)\n",
    "            \n",
    "            #print(X_real.shape,X_fake.shape)\n",
    "            \n",
    "    # save the generator model\n",
    "    #g_model.save('generator.h5')\n",
    "    #d_model.save('dis_generator.h5')\n",
    "    plot_history(c1_hist, c2_hist, g_hist)\n",
    "    return g_model,d_model"
   ]
  },
  {
   "cell_type": "code",
   "execution_count": 20,
   "metadata": {},
   "outputs": [
    {
     "name": "stdout",
     "output_type": "stream",
     "text": [
      "_________________________________________________________________\n",
      "Layer (type)                 Output Shape              Param #   \n",
      "=================================================================\n",
      "dense_2 (Dense)              (None, 250)               25250     \n",
      "_________________________________________________________________\n",
      "reshape_1 (Reshape)          (None, 25, 10)            0         \n",
      "_________________________________________________________________\n",
      "batch_normalization_1 (Batch (None, 25, 10)            40        \n",
      "_________________________________________________________________\n",
      "lambda_1 (Lambda)            (None, 50, 10)            0         \n",
      "_________________________________________________________________\n",
      "batch_normalization_2 (Batch (None, 50, 10)            40        \n",
      "_________________________________________________________________\n",
      "lambda_6 (Lambda)            (None, 100, 10)           0         \n",
      "_________________________________________________________________\n",
      "batch_normalization_3 (Batch (None, 100, 10)           40        \n",
      "_________________________________________________________________\n",
      "lambda_11 (Lambda)           (None, 200, 1)            0         \n",
      "_________________________________________________________________\n",
      "activation_1 (Activation)    (None, 200, 1)            0         \n",
      "=================================================================\n",
      "Total params: 25,370\n",
      "Trainable params: 25,310\n",
      "Non-trainable params: 60\n",
      "_________________________________________________________________\n"
     ]
    },
    {
     "name": "stderr",
     "output_type": "stream",
     "text": [
      "/mnt/disks/user/anaconda3/lib/python3.6/site-packages/keras/engine/training.py:479: UserWarning: Discrepancy between trainable weights and collected trainable weights, did you set `model.trainable` without calling `model.compile` after ?\n",
      "  'Discrepancy between trainable weights and collected trainable'\n"
     ]
    },
    {
     "name": "stdout",
     "output_type": "stream",
     "text": [
      ">1, 1/5, d1=0.705, d2=0.841 g=0.621\n",
      ">1, 2/5, d1=0.677, d2=0.744 g=0.704\n",
      ">1, 3/5, d1=0.664, d2=0.636 g=0.821\n",
      ">1, 4/5, d1=0.651, d2=0.527 g=0.958\n",
      ">1, 5/5, d1=0.643, d2=0.454 g=1.099\n",
      ">2, 1/5, d1=0.631, d2=0.373 g=1.257\n",
      ">2, 2/5, d1=0.619, d2=0.305 g=1.385\n",
      ">2, 3/5, d1=0.603, d2=0.260 g=1.567\n",
      ">2, 4/5, d1=0.591, d2=0.217 g=1.744\n",
      ">2, 5/5, d1=0.574, d2=0.179 g=1.875\n",
      ">3, 1/5, d1=0.555, d2=0.152 g=2.030\n",
      ">3, 2/5, d1=0.534, d2=0.129 g=2.167\n",
      ">3, 3/5, d1=0.516, d2=0.112 g=2.310\n",
      ">3, 4/5, d1=0.487, d2=0.100 g=2.423\n",
      ">3, 5/5, d1=0.464, d2=0.085 g=2.531\n",
      ">4, 1/5, d1=0.443, d2=0.074 g=2.654\n",
      ">4, 2/5, d1=0.411, d2=0.071 g=2.762\n",
      ">4, 3/5, d1=0.385, d2=0.062 g=2.845\n",
      ">4, 4/5, d1=0.364, d2=0.057 g=2.906\n",
      ">4, 5/5, d1=0.339, d2=0.053 g=2.971\n",
      ">5, 1/5, d1=0.316, d2=0.051 g=3.029\n",
      ">5, 2/5, d1=0.286, d2=0.046 g=3.125\n",
      ">5, 3/5, d1=0.263, d2=0.044 g=3.172\n",
      ">5, 4/5, d1=0.245, d2=0.040 g=3.221\n",
      ">5, 5/5, d1=0.224, d2=0.040 g=3.268\n",
      ">6, 1/5, d1=0.200, d2=0.037 g=3.304\n",
      ">6, 2/5, d1=0.182, d2=0.036 g=3.361\n",
      ">6, 3/5, d1=0.169, d2=0.034 g=3.383\n",
      ">6, 4/5, d1=0.153, d2=0.033 g=3.430\n",
      ">6, 5/5, d1=0.138, d2=0.029 g=3.487\n",
      ">7, 1/5, d1=0.127, d2=0.030 g=3.520\n",
      ">7, 2/5, d1=0.115, d2=0.028 g=3.567\n",
      ">7, 3/5, d1=0.106, d2=0.026 g=3.613\n",
      ">7, 4/5, d1=0.097, d2=0.027 g=3.666\n",
      ">7, 5/5, d1=0.087, d2=0.025 g=3.702\n",
      ">8, 1/5, d1=0.080, d2=0.023 g=3.717\n",
      ">8, 2/5, d1=0.072, d2=0.024 g=3.780\n",
      ">8, 3/5, d1=0.068, d2=0.021 g=3.840\n",
      ">8, 4/5, d1=0.063, d2=0.021 g=3.883\n",
      ">8, 5/5, d1=0.058, d2=0.020 g=3.914\n",
      ">9, 1/5, d1=0.053, d2=0.019 g=3.958\n",
      ">9, 2/5, d1=0.050, d2=0.019 g=3.974\n",
      ">9, 3/5, d1=0.046, d2=0.018 g=4.073\n",
      ">9, 4/5, d1=0.043, d2=0.017 g=4.114\n",
      ">9, 5/5, d1=0.040, d2=0.015 g=4.117\n",
      ">10, 1/5, d1=0.038, d2=0.014 g=4.192\n",
      ">10, 2/5, d1=0.036, d2=0.015 g=4.194\n",
      ">10, 3/5, d1=0.033, d2=0.014 g=4.248\n",
      ">10, 4/5, d1=0.031, d2=0.013 g=4.281\n",
      ">10, 5/5, d1=0.029, d2=0.013 g=4.325\n",
      ">11, 1/5, d1=0.028, d2=0.013 g=4.397\n",
      ">11, 2/5, d1=0.026, d2=0.012 g=4.424\n",
      ">11, 3/5, d1=0.025, d2=0.012 g=4.464\n",
      ">11, 4/5, d1=0.024, d2=0.011 g=4.485\n",
      ">11, 5/5, d1=0.022, d2=0.011 g=4.536\n",
      ">12, 1/5, d1=0.021, d2=0.010 g=4.566\n",
      ">12, 2/5, d1=0.020, d2=0.009 g=4.598\n",
      ">12, 3/5, d1=0.020, d2=0.009 g=4.644\n",
      ">12, 4/5, d1=0.018, d2=0.008 g=4.687\n",
      ">12, 5/5, d1=0.018, d2=0.008 g=4.697\n",
      ">13, 1/5, d1=0.017, d2=0.008 g=4.758\n",
      ">13, 2/5, d1=0.016, d2=0.008 g=4.779\n",
      ">13, 3/5, d1=0.016, d2=0.007 g=4.827\n",
      ">13, 4/5, d1=0.015, d2=0.008 g=4.811\n",
      ">13, 5/5, d1=0.014, d2=0.007 g=4.904\n",
      ">14, 1/5, d1=0.014, d2=0.007 g=4.897\n",
      ">14, 2/5, d1=0.014, d2=0.007 g=4.893\n",
      ">14, 3/5, d1=0.013, d2=0.007 g=4.953\n",
      ">14, 4/5, d1=0.013, d2=0.006 g=4.950\n",
      ">14, 5/5, d1=0.012, d2=0.006 g=5.022\n",
      ">15, 1/5, d1=0.012, d2=0.006 g=5.031\n",
      ">15, 2/5, d1=0.011, d2=0.006 g=5.063\n",
      ">15, 3/5, d1=0.011, d2=0.006 g=5.084\n",
      ">15, 4/5, d1=0.011, d2=0.006 g=5.132\n",
      ">15, 5/5, d1=0.010, d2=0.005 g=5.108\n",
      ">16, 1/5, d1=0.010, d2=0.005 g=5.159\n",
      ">16, 2/5, d1=0.010, d2=0.005 g=5.160\n",
      ">16, 3/5, d1=0.010, d2=0.005 g=5.233\n",
      ">16, 4/5, d1=0.009, d2=0.004 g=5.238\n",
      ">16, 5/5, d1=0.009, d2=0.005 g=5.254\n",
      ">17, 1/5, d1=0.009, d2=0.005 g=5.289\n",
      ">17, 2/5, d1=0.009, d2=0.004 g=5.296\n",
      ">17, 3/5, d1=0.008, d2=0.004 g=5.289\n",
      ">17, 4/5, d1=0.008, d2=0.004 g=5.311\n",
      ">17, 5/5, d1=0.008, d2=0.004 g=5.371\n",
      ">18, 1/5, d1=0.007, d2=0.004 g=5.350\n",
      ">18, 2/5, d1=0.007, d2=0.004 g=5.429\n",
      ">18, 3/5, d1=0.007, d2=0.004 g=5.413\n",
      ">18, 4/5, d1=0.007, d2=0.004 g=5.441\n",
      ">18, 5/5, d1=0.007, d2=0.004 g=5.465\n",
      ">19, 1/5, d1=0.006, d2=0.004 g=5.458\n",
      ">19, 2/5, d1=0.006, d2=0.003 g=5.518\n",
      ">19, 3/5, d1=0.006, d2=0.003 g=5.518\n",
      ">19, 4/5, d1=0.006, d2=0.003 g=5.518\n",
      ">19, 5/5, d1=0.006, d2=0.003 g=5.578\n",
      ">20, 1/5, d1=0.006, d2=0.003 g=5.575\n",
      ">20, 2/5, d1=0.006, d2=0.003 g=5.554\n",
      ">20, 3/5, d1=0.006, d2=0.003 g=5.601\n",
      ">20, 4/5, d1=0.006, d2=0.003 g=5.653\n",
      ">20, 5/5, d1=0.005, d2=0.003 g=5.634\n"
     ]
    }
   ],
   "source": [
    "# size of the latent space\n",
    "latent_dim = 100\n",
    "# create the discriminator\n",
    "discriminator = define_discriminator()\n",
    "# create the generator\n",
    "generator = define_generator(latent_dim)\n",
    "# create the gan\n",
    "gan_model = define_gan(generator, discriminator)\n",
    "# load data\n",
    "dataset = load_real_samples()\n",
    "\n",
    "dataset = np.reshape(dataset,(dataset.shape[0],dataset.shape[1],1))\n",
    "\n",
    "# train model\n",
    "model,d_model= train(generator, discriminator, gan_model, dataset, latent_dim)"
   ]
  },
  {
   "cell_type": "code",
   "execution_count": null,
   "metadata": {},
   "outputs": [],
   "source": []
  },
  {
   "cell_type": "code",
   "execution_count": null,
   "metadata": {},
   "outputs": [],
   "source": []
  },
  {
   "cell_type": "code",
   "execution_count": null,
   "metadata": {},
   "outputs": [],
   "source": []
  }
 ],
 "metadata": {
  "kernelspec": {
   "display_name": "Python 3",
   "language": "python",
   "name": "python3"
  },
  "language_info": {
   "codemirror_mode": {
    "name": "ipython",
    "version": 3
   },
   "file_extension": ".py",
   "mimetype": "text/x-python",
   "name": "python",
   "nbconvert_exporter": "python",
   "pygments_lexer": "ipython3",
   "version": "3.6.5"
  }
 },
 "nbformat": 4,
 "nbformat_minor": 2
}
