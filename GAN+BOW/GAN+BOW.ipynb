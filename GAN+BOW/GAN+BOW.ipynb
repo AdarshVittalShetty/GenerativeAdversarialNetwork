{
 "cells": [
  {
   "cell_type": "code",
   "execution_count": 1,
   "metadata": {},
   "outputs": [
    {
     "name": "stdout",
     "output_type": "stream",
     "text": [
      "[nltk_data] Downloading package stopwords to /root/nltk_data...\n",
      "[nltk_data]   Unzipping corpora/stopwords.zip.\n",
      "[nltk_data] Downloading package wordnet to /root/nltk_data...\n",
      "[nltk_data]   Unzipping corpora/wordnet.zip.\n",
      "[nltk_data] Downloading package punkt to /root/nltk_data...\n",
      "[nltk_data]   Unzipping tokenizers/punkt.zip.\n"
     ]
    },
    {
     "name": "stderr",
     "output_type": "stream",
     "text": [
      "/mnt/disks/user/anaconda3/lib/python3.6/site-packages/gensim/similarities/__init__.py:15: UserWarning: The gensim.similarities.levenshtein submodule is disabled, because the optional Levenshtein package <https://pypi.org/project/python-Levenshtein/> is unavailable. Install Levenhstein (e.g. `pip install python-Levenshtein`) to suppress this warning.\n",
      "  warnings.warn(msg)\n",
      "Using TensorFlow backend.\n",
      "/mnt/disks/user/anaconda3/lib/python3.6/site-packages/tensorflow/python/framework/dtypes.py:523: FutureWarning: Passing (type, 1) or '1type' as a synonym of type is deprecated; in a future version of numpy, it will be understood as (type, (1,)) / '(1,)type'.\n",
      "  _np_qint8 = np.dtype([(\"qint8\", np.int8, 1)])\n",
      "/mnt/disks/user/anaconda3/lib/python3.6/site-packages/tensorflow/python/framework/dtypes.py:524: FutureWarning: Passing (type, 1) or '1type' as a synonym of type is deprecated; in a future version of numpy, it will be understood as (type, (1,)) / '(1,)type'.\n",
      "  _np_quint8 = np.dtype([(\"quint8\", np.uint8, 1)])\n",
      "/mnt/disks/user/anaconda3/lib/python3.6/site-packages/tensorflow/python/framework/dtypes.py:525: FutureWarning: Passing (type, 1) or '1type' as a synonym of type is deprecated; in a future version of numpy, it will be understood as (type, (1,)) / '(1,)type'.\n",
      "  _np_qint16 = np.dtype([(\"qint16\", np.int16, 1)])\n",
      "/mnt/disks/user/anaconda3/lib/python3.6/site-packages/tensorflow/python/framework/dtypes.py:526: FutureWarning: Passing (type, 1) or '1type' as a synonym of type is deprecated; in a future version of numpy, it will be understood as (type, (1,)) / '(1,)type'.\n",
      "  _np_quint16 = np.dtype([(\"quint16\", np.uint16, 1)])\n",
      "/mnt/disks/user/anaconda3/lib/python3.6/site-packages/tensorflow/python/framework/dtypes.py:527: FutureWarning: Passing (type, 1) or '1type' as a synonym of type is deprecated; in a future version of numpy, it will be understood as (type, (1,)) / '(1,)type'.\n",
      "  _np_qint32 = np.dtype([(\"qint32\", np.int32, 1)])\n",
      "/mnt/disks/user/anaconda3/lib/python3.6/site-packages/tensorflow/python/framework/dtypes.py:532: FutureWarning: Passing (type, 1) or '1type' as a synonym of type is deprecated; in a future version of numpy, it will be understood as (type, (1,)) / '(1,)type'.\n",
      "  np_resource = np.dtype([(\"resource\", np.ubyte, 1)])\n"
     ]
    }
   ],
   "source": [
    "import nltk\n",
    "nltk.download('stopwords')\n",
    "nltk.download('wordnet')\n",
    "nltk.download('punkt')\n",
    "# load all necessary libraries\n",
    "import pandas as pd\n",
    "import numpy as np # linear algebra\n",
    "\n",
    "from sklearn.feature_extraction.text import CountVectorizer\n",
    "from sklearn.feature_extraction.text import TfidfVectorizer\n",
    "from sklearn import metrics\n",
    "from sklearn.metrics import confusion_matrix as sk_confusion_matrix\n",
    "from sklearn.metrics import roc_curve, auc\n",
    "import matplotlib.pyplot as plt\n",
    "\n",
    "\n",
    "from sklearn.naive_bayes import MultinomialNB\n",
    "from sklearn.model_selection  import train_test_split\n",
    "from nltk.tokenize import word_tokenize\n",
    "from nltk.corpus import stopwords\n",
    "from nltk.stem.porter import PorterStemmer\n",
    "from nltk.stem import WordNetLemmatizer\n",
    "\n",
    "\n",
    "from gensim.models.word2vec import Word2Vec\n",
    "from gensim import models\n",
    "from gensim.models import KeyedVectors\n",
    "\n",
    "\n",
    "from sklearn.linear_model import LogisticRegression\n",
    "from numpy import expand_dims\n",
    "from numpy import zeros\n",
    "from numpy import ones\n",
    "from numpy.random import randn\n",
    "from numpy.random import randint\n",
    "from keras.datasets.fashion_mnist import load_data\n",
    "from keras.optimizers import Adam\n",
    "from keras.models import Sequential\n",
    "from keras.layers import Dense\n",
    "from keras.layers import Reshape\n",
    "from keras.layers import Flatten\n",
    "from keras.layers import Conv2D,Lambda,BatchNormalization,Activation\n",
    "from keras.layers import Conv1D\n",
    "from keras.layers import Conv2DTranspose\n",
    "from keras.layers import LeakyReLU\n",
    "from keras.layers import Dropout\n",
    "import keras.backend as K\n",
    "\n",
    "import tensorflow as tf\n",
    "from keras.preprocessing import sequence\n",
    "\n",
    "from keras.models import load_model\n",
    "from numpy.random import randn\n",
    "from matplotlib import pyplot\n",
    "from keras.layers import Input,MaxPool1D\n",
    "from keras.models import Model"
   ]
  },
  {
   "cell_type": "code",
   "execution_count": 3,
   "metadata": {},
   "outputs": [],
   "source": [
    "## initialise the inbuilt Stemmer and the Lemmatizer\n",
    "stemmer = PorterStemmer()\n",
    "wordnet_lemmatizer = WordNetLemmatizer()\n",
    "\n",
    "def preprocess(document, stem=True):\n",
    "    'changes document to lower case, removes stopwords and lemmatizes/stems the remainder of the sentence'\n",
    "\n",
    "    # change sentence to lower case\n",
    "    document = document.lower()\n",
    "\n",
    "    # tokenize into words\n",
    "    words = word_tokenize(document)\n",
    "\n",
    "    # remove stop words\n",
    "    words = [word for word in words if word not in stopwords.words(\"english\")]\n",
    "\n",
    "    if stem:\n",
    "        words = [stemmer.stem(word) for word in words]\n",
    "    else:\n",
    "        words = [wordnet_lemmatizer.lemmatize(word, pos='v') for word in words]\n",
    "\n",
    "    # join words to make sentence\n",
    "    document = \" \".join(words)\n",
    "\n",
    "    return document"
   ]
  },
  {
   "cell_type": "code",
   "execution_count": 4,
   "metadata": {},
   "outputs": [],
   "source": [
    "seq_len = max_len = 1024 #512\n",
    "b_size = 128\n",
    "n_chan = 10\n",
    "f_size = 3 # filter size\n"
   ]
  },
  {
   "cell_type": "code",
   "execution_count": 5,
   "metadata": {},
   "outputs": [
    {
     "name": "stdout",
     "output_type": "stream",
     "text": [
      "Training set size :  649\n",
      "Test set size :  320\n"
     ]
    }
   ],
   "source": [
    "\n",
    "data = pd.read_csv(\"./../deceptive-opinion.csv\")\n",
    "data = data.loc[:,['text','deceptive']]\n",
    "\n",
    "# stem messages\n",
    "#messages = [preprocess(message, stem=True) for message in data.text]\n",
    "data.text = data.text.apply(lambda message : preprocess(message, stem=False))\n",
    "data['deceptive'] = data.deceptive.map({'truthful':1, 'deceptive':0})\n",
    "\n",
    "X = data.text\n",
    "y = data.deceptive\n",
    "#X_train, X_test, y_train, y_test = train_test_split(X, y,  test_size = 0.30,random_state=1)\n",
    "\n",
    "\n",
    "df_train, df_test= train_test_split(data,  test_size = 0.20,random_state=1)\n",
    "df_truthful = df_train.loc[df_train.deceptive == 1,:]\n",
    "X_train = df_truthful.text\n",
    "X_test=df_test.text\n",
    "y_train= df_truthful.deceptive\n",
    "y_test=df_test.deceptive\n",
    "\n",
    "print('Training set size : ', (X_train.shape[0]))\n",
    "print('Test set size : ', (X_test.shape[0]))\n",
    "\n",
    "bow_model = CountVectorizer(stop_words='english',max_features=max_len)\n",
    "\n",
    "# ch2 = SelectKBest(chi2, k = max_len)\n",
    "\n",
    "# count_new = ch2.fit_transform(counts, good)\n",
    "# dict=np.asarray(count_vectorizer.get_feature_names())[ch2.get_support()]\n",
    "# count_vectorizer=CountVectorizer(strip_accents='unicode', ngram_range=(1,1), binary=True,  vocabulary=dict)\n",
    "\n",
    "\n",
    "X_train_bow = bow_model.fit_transform(X_train)\n",
    "X_test_bow = bow_model.transform(X_test)"
   ]
  },
  {
   "cell_type": "code",
   "execution_count": 6,
   "metadata": {},
   "outputs": [
    {
     "data": {
      "text/plain": [
       "((649, 1024), (320, 1024))"
      ]
     },
     "execution_count": 6,
     "metadata": {},
     "output_type": "execute_result"
    }
   ],
   "source": [
    "X_train_bow.shape,X_test_bow.shape"
   ]
  },
  {
   "cell_type": "code",
   "execution_count": 7,
   "metadata": {},
   "outputs": [],
   "source": [
    "seq_len = max_len = X_train_bow.shape[1]"
   ]
  },
  {
   "cell_type": "code",
   "execution_count": 8,
   "metadata": {},
   "outputs": [
    {
     "name": "stdout",
     "output_type": "stream",
     "text": [
      "[[0 0 0 ... 0 1 0]]\n"
     ]
    }
   ],
   "source": [
    "print(X_train_bow[0].toarray())\n"
   ]
  },
  {
   "cell_type": "code",
   "execution_count": 9,
   "metadata": {},
   "outputs": [],
   "source": [
    "vocab_size = X_train_bow.shape[1]"
   ]
  },
  {
   "cell_type": "code",
   "execution_count": 10,
   "metadata": {},
   "outputs": [
    {
     "name": "stdout",
     "output_type": "stream",
     "text": [
      "Pad sequences (samples x time)\n",
      "x_train shape: (649, 1024)\n",
      "x_test shape: (320, 1024)\n"
     ]
    }
   ],
   "source": [
    "print('Pad sequences (samples x time)')\n",
    "x_train = sequence.pad_sequences(X_train_bow.toarray(), maxlen=max_len)\n",
    "x_test = sequence.pad_sequences(X_test_bow.toarray(), maxlen=max_len)\n",
    "print('x_train shape:', x_train.shape)\n",
    "print('x_test shape:', x_test.shape)"
   ]
  },
  {
   "cell_type": "code",
   "execution_count": 11,
   "metadata": {},
   "outputs": [],
   "source": [
    "\n",
    "def define_discriminator(in_shape=(max_len,1)):\n",
    "\n",
    "    D = Sequential()\n",
    "    D.add(Conv1D(n_chan,f_size,activation='relu',input_shape = (seq_len,1)))\n",
    "    D.add(Flatten())\n",
    "    D.add(Dense(1, activation='sigmoid'))\n",
    "    D.compile(optimizer='adam', loss='binary_crossentropy',  metrics=['accuracy'])\n",
    "    return D\n"
   ]
  },
  {
   "cell_type": "code",
   "execution_count": 12,
   "metadata": {},
   "outputs": [],
   "source": [
    "# define the standalone generator model\n",
    "def define_generator(latent_dim):\n",
    "    def Conv1DTranspose(inp,nf,ks,s=2,p='same'):\n",
    "        x1 = Lambda(lambda x : K.expand_dims(x,axis=2))(inp)\n",
    "        x2 = Conv2DTranspose(filters=nf,kernel_size=(ks,1),strides=(s,1),padding=p)(x1)\n",
    "        return Lambda(lambda x :K.squeeze(x,axis=2))(x2)\n",
    "\n",
    "    G = Sequential()\n",
    "    G.add(Dense(int(seq_len/8)*n_chan,input_shape=(latent_dim,)))\n",
    "    G.add(Reshape((int(seq_len/8),n_chan)))\n",
    "    G.add(BatchNormalization(momentum= 0.8,epsilon=1.e-5))\n",
    "    for i in range(0,2):\n",
    "        G.add(Lambda(lambda x : Conv1DTranspose(x,n_chan,f_size)))\n",
    "        G.add(BatchNormalization(momentum= 0.8,epsilon=1.e-5))\n",
    "\n",
    "    G.add(Lambda(lambda x : Conv1DTranspose(x,1,3)))\n",
    "    G.add(Activation('sigmoid'))\n",
    "    G.summary()\n",
    "    return G\n",
    "\n"
   ]
  },
  {
   "cell_type": "code",
   "execution_count": 13,
   "metadata": {},
   "outputs": [],
   "source": [
    "# define the combined generator and discriminator model, for updating the generator\n",
    "def define_gan(generator, discriminator):\n",
    "    # make weights in the discriminator not trainable\n",
    "    discriminator.trainable = False\n",
    "    # connect them\n",
    "    model = Sequential()\n",
    "    # add generator\n",
    "    model.add(generator)\n",
    "    # add the discriminator\n",
    "    model.add(discriminator)\n",
    "    # compile model\n",
    "    opt = Adam(lr=0.0002, beta_1=0.5)\n",
    "    model.compile(loss='binary_crossentropy', optimizer=opt)\n",
    "    return model"
   ]
  },
  {
   "cell_type": "code",
   "execution_count": 14,
   "metadata": {},
   "outputs": [],
   "source": [
    "# load data\n",
    "def load_real_samples():\n",
    "    # load dataset\n",
    "    (trainX, _), (_, _) = (x_train,y_train),(x_test,y_test)#load_data()\n",
    "\n",
    "    return trainX"
   ]
  },
  {
   "cell_type": "code",
   "execution_count": 15,
   "metadata": {},
   "outputs": [],
   "source": [
    "# select real samples\n",
    "def generate_real_samples(dataset, n_samples):\n",
    "    # choose random instances\n",
    "    ix = randint(0, dataset.shape[0], n_samples)\n",
    "    # select data\n",
    "    X = dataset[ix]\n",
    "    # generate class labels\n",
    "    y = ones((n_samples, 1))\n",
    "    return X, y"
   ]
  },
  {
   "cell_type": "code",
   "execution_count": 16,
   "metadata": {},
   "outputs": [],
   "source": [
    "# generate points in latent space as input for the generator\n",
    "def generate_latent_points(latent_dim, n_samples):\n",
    "    # generate points in the latent space\n",
    "    x_input = randn(latent_dim * n_samples)\n",
    "    # reshape into a batch of inputs for the network\n",
    "    x_input = x_input.reshape(n_samples, latent_dim)\n",
    "    return x_input\n",
    "\n",
    "    # use the generator to generate n fake examples, with class labels\n",
    "def generate_fake_samples(generator, latent_dim, n_samples):\n",
    "    # generate points in latent space\n",
    "    x_input = generate_latent_points(latent_dim, n_samples)\n",
    "    # predict outputs\n",
    "    X = generator.predict(x_input)\n",
    "    # create class labels\n",
    "    y = zeros((n_samples, 1))\n",
    "    return X, y"
   ]
  },
  {
   "cell_type": "code",
   "execution_count": 17,
   "metadata": {},
   "outputs": [],
   "source": [
    "def plot_history(d1_hist, d2_hist, g_hist):\n",
    "    # plot history\n",
    "    pyplot.title(\"GAN+BOW\")\n",
    "    pyplot.plot(d1_hist, label='disc_real')\n",
    "    pyplot.plot(d2_hist, label='disc_fake')\n",
    "    pyplot.plot(g_hist, label='gen')\n",
    "    pyplot.legend()\n",
    "    pyplot.savefig('GAN_BOW_line_plot_loss.png')\n",
    "    pyplot.close()"
   ]
  },
  {
   "cell_type": "code",
   "execution_count": 18,
   "metadata": {},
   "outputs": [],
   "source": [
    "# train the generator and discriminator\n",
    "def train(g_model, d_model, gan_model, dataset, latent_dim, n_epochs=20, n_batch=128):\n",
    "    bat_per_epo = int(dataset.shape[0] / n_batch)\n",
    "    half_batch = int(n_batch / 2)\n",
    "    # manually enumerate epochs\n",
    "    c1_hist, c2_hist, g_hist = list(), list(), list()\n",
    "    for i in range(n_epochs):\n",
    "        # enumerate batches over the training set\n",
    "        for j in range(bat_per_epo):\n",
    "            # get randomly selected 'real' samples\n",
    "            X_real, y_real = generate_real_samples(dataset, half_batch)\n",
    "            # update discriminator model weights\n",
    "            d_loss1, _ = d_model.train_on_batch(X_real, y_real)\n",
    "            # generate 'fake' examples\n",
    "            X_fake, y_fake = generate_fake_samples(g_model, latent_dim, half_batch)\n",
    "            # update discriminator model weights\n",
    "            d_loss2, _ = d_model.train_on_batch(X_fake, y_fake)\n",
    "            # prepare points in latent space as input for the generator\n",
    "            X_gan = generate_latent_points(latent_dim, n_batch)\n",
    "            # create inverted labels for the fake samples\n",
    "            y_gan = ones((n_batch, 1))\n",
    "            # update the generator via the discriminator's error\n",
    "            g_loss = gan_model.train_on_batch(X_gan, y_gan)\n",
    "            # summarize loss on this batch\n",
    "            print('>%d, %d/%d, d1=%.3f, d2=%.3f g=%.3f' %\n",
    "            (i+1, j+1, bat_per_epo, d_loss1, d_loss2, g_loss))\n",
    "            c1_hist.append(d_loss1)\n",
    "            c2_hist.append(d_loss2)\n",
    "            g_hist.append(g_loss)\n",
    "            \n",
    "            #print(X_real.shape,X_fake.shape)\n",
    "            \n",
    "    # save the generator model\n",
    "    #g_model.save('generator.h5')\n",
    "    #d_model.save('dis_generator.h5')\n",
    "    plot_history(c1_hist, c2_hist, g_hist)\n",
    "    return g_model,d_model"
   ]
  },
  {
   "cell_type": "code",
   "execution_count": 19,
   "metadata": {},
   "outputs": [
    {
     "name": "stdout",
     "output_type": "stream",
     "text": [
      "_________________________________________________________________\n",
      "Layer (type)                 Output Shape              Param #   \n",
      "=================================================================\n",
      "dense_2 (Dense)              (None, 1280)              129280    \n",
      "_________________________________________________________________\n",
      "reshape_1 (Reshape)          (None, 128, 10)           0         \n",
      "_________________________________________________________________\n",
      "batch_normalization_1 (Batch (None, 128, 10)           40        \n",
      "_________________________________________________________________\n",
      "lambda_1 (Lambda)            (None, 256, 10)           0         \n",
      "_________________________________________________________________\n",
      "batch_normalization_2 (Batch (None, 256, 10)           40        \n",
      "_________________________________________________________________\n",
      "lambda_6 (Lambda)            (None, 512, 10)           0         \n",
      "_________________________________________________________________\n",
      "batch_normalization_3 (Batch (None, 512, 10)           40        \n",
      "_________________________________________________________________\n",
      "lambda_11 (Lambda)           (None, 1024, 1)           0         \n",
      "_________________________________________________________________\n",
      "activation_1 (Activation)    (None, 1024, 1)           0         \n",
      "=================================================================\n",
      "Total params: 129,400\n",
      "Trainable params: 129,340\n",
      "Non-trainable params: 60\n",
      "_________________________________________________________________\n"
     ]
    },
    {
     "name": "stderr",
     "output_type": "stream",
     "text": [
      "/mnt/disks/user/anaconda3/lib/python3.6/site-packages/keras/engine/training.py:479: UserWarning: Discrepancy between trainable weights and collected trainable weights, did you set `model.trainable` without calling `model.compile` after ?\n",
      "  'Discrepancy between trainable weights and collected trainable'\n"
     ]
    },
    {
     "name": "stdout",
     "output_type": "stream",
     "text": [
      ">1, 1/5, d1=0.688, d2=0.805 g=0.607\n",
      ">1, 2/5, d1=0.636, d2=0.780 g=0.686\n",
      ">1, 3/5, d1=0.602, d2=0.664 g=0.805\n",
      ">1, 4/5, d1=0.592, d2=0.543 g=0.955\n",
      ">1, 5/5, d1=0.576, d2=0.441 g=1.128\n",
      ">2, 1/5, d1=0.563, d2=0.350 g=1.307\n",
      ">2, 2/5, d1=0.540, d2=0.280 g=1.503\n",
      ">2, 3/5, d1=0.503, d2=0.219 g=1.705\n",
      ">2, 4/5, d1=0.476, d2=0.176 g=1.892\n",
      ">2, 5/5, d1=0.451, d2=0.145 g=2.059\n",
      ">3, 1/5, d1=0.399, d2=0.119 g=2.243\n",
      ">3, 2/5, d1=0.366, d2=0.097 g=2.409\n",
      ">3, 3/5, d1=0.317, d2=0.083 g=2.550\n",
      ">3, 4/5, d1=0.279, d2=0.071 g=2.697\n",
      ">3, 5/5, d1=0.225, d2=0.061 g=2.836\n",
      ">4, 1/5, d1=0.206, d2=0.053 g=2.956\n",
      ">4, 2/5, d1=0.173, d2=0.047 g=3.081\n",
      ">4, 3/5, d1=0.143, d2=0.042 g=3.165\n",
      ">4, 4/5, d1=0.112, d2=0.038 g=3.273\n",
      ">4, 5/5, d1=0.088, d2=0.034 g=3.360\n",
      ">5, 1/5, d1=0.069, d2=0.031 g=3.451\n",
      ">5, 2/5, d1=0.058, d2=0.028 g=3.547\n",
      ">5, 3/5, d1=0.046, d2=0.026 g=3.630\n",
      ">5, 4/5, d1=0.036, d2=0.023 g=3.702\n",
      ">5, 5/5, d1=0.034, d2=0.021 g=3.783\n",
      ">6, 1/5, d1=0.024, d2=0.019 g=3.861\n",
      ">6, 2/5, d1=0.019, d2=0.018 g=3.933\n",
      ">6, 3/5, d1=0.019, d2=0.016 g=4.024\n",
      ">6, 4/5, d1=0.015, d2=0.015 g=4.093\n",
      ">6, 5/5, d1=0.015, d2=0.014 g=4.138\n",
      ">7, 1/5, d1=0.013, d2=0.013 g=4.216\n",
      ">7, 2/5, d1=0.012, d2=0.012 g=4.297\n",
      ">7, 3/5, d1=0.010, d2=0.011 g=4.351\n",
      ">7, 4/5, d1=0.010, d2=0.010 g=4.436\n",
      ">7, 5/5, d1=0.009, d2=0.009 g=4.500\n",
      ">8, 1/5, d1=0.008, d2=0.009 g=4.561\n",
      ">8, 2/5, d1=0.007, d2=0.008 g=4.598\n",
      ">8, 3/5, d1=0.007, d2=0.008 g=4.686\n",
      ">8, 4/5, d1=0.006, d2=0.007 g=4.724\n",
      ">8, 5/5, d1=0.006, d2=0.007 g=4.765\n",
      ">9, 1/5, d1=0.006, d2=0.007 g=4.837\n",
      ">9, 2/5, d1=0.006, d2=0.006 g=4.865\n",
      ">9, 3/5, d1=0.005, d2=0.006 g=4.933\n",
      ">9, 4/5, d1=0.005, d2=0.005 g=4.960\n",
      ">9, 5/5, d1=0.005, d2=0.005 g=5.004\n",
      ">10, 1/5, d1=0.004, d2=0.005 g=5.052\n",
      ">10, 2/5, d1=0.004, d2=0.005 g=5.073\n",
      ">10, 3/5, d1=0.004, d2=0.005 g=5.115\n",
      ">10, 4/5, d1=0.004, d2=0.004 g=5.167\n",
      ">10, 5/5, d1=0.004, d2=0.004 g=5.187\n",
      ">11, 1/5, d1=0.004, d2=0.004 g=5.202\n",
      ">11, 2/5, d1=0.004, d2=0.004 g=5.251\n",
      ">11, 3/5, d1=0.003, d2=0.004 g=5.268\n",
      ">11, 4/5, d1=0.003, d2=0.004 g=5.303\n",
      ">11, 5/5, d1=0.003, d2=0.004 g=5.349\n",
      ">12, 1/5, d1=0.003, d2=0.003 g=5.363\n",
      ">12, 2/5, d1=0.003, d2=0.003 g=5.389\n",
      ">12, 3/5, d1=0.003, d2=0.003 g=5.429\n",
      ">12, 4/5, d1=0.003, d2=0.003 g=5.446\n",
      ">12, 5/5, d1=0.003, d2=0.003 g=5.468\n",
      ">13, 1/5, d1=0.003, d2=0.003 g=5.480\n",
      ">13, 2/5, d1=0.003, d2=0.003 g=5.550\n",
      ">13, 3/5, d1=0.003, d2=0.003 g=5.555\n",
      ">13, 4/5, d1=0.003, d2=0.003 g=5.581\n",
      ">13, 5/5, d1=0.002, d2=0.003 g=5.589\n",
      ">14, 1/5, d1=0.002, d2=0.002 g=5.619\n",
      ">14, 2/5, d1=0.002, d2=0.002 g=5.645\n",
      ">14, 3/5, d1=0.002, d2=0.002 g=5.631\n",
      ">14, 4/5, d1=0.002, d2=0.002 g=5.720\n",
      ">14, 5/5, d1=0.002, d2=0.002 g=5.695\n",
      ">15, 1/5, d1=0.002, d2=0.002 g=5.689\n",
      ">15, 2/5, d1=0.002, d2=0.002 g=5.715\n",
      ">15, 3/5, d1=0.002, d2=0.002 g=5.715\n",
      ">15, 4/5, d1=0.002, d2=0.002 g=5.756\n",
      ">15, 5/5, d1=0.002, d2=0.002 g=5.750\n",
      ">16, 1/5, d1=0.002, d2=0.002 g=5.797\n",
      ">16, 2/5, d1=0.002, d2=0.002 g=5.803\n",
      ">16, 3/5, d1=0.002, d2=0.002 g=5.816\n",
      ">16, 4/5, d1=0.002, d2=0.002 g=5.813\n",
      ">16, 5/5, d1=0.002, d2=0.002 g=5.848\n",
      ">17, 1/5, d1=0.002, d2=0.002 g=5.870\n",
      ">17, 2/5, d1=0.002, d2=0.002 g=5.889\n",
      ">17, 3/5, d1=0.002, d2=0.002 g=5.915\n",
      ">17, 4/5, d1=0.002, d2=0.002 g=5.896\n",
      ">17, 5/5, d1=0.001, d2=0.002 g=5.910\n",
      ">18, 1/5, d1=0.002, d2=0.002 g=5.922\n",
      ">18, 2/5, d1=0.001, d2=0.002 g=5.968\n",
      ">18, 3/5, d1=0.001, d2=0.001 g=5.976\n",
      ">18, 4/5, d1=0.001, d2=0.001 g=5.960\n",
      ">18, 5/5, d1=0.001, d2=0.001 g=6.000\n",
      ">19, 1/5, d1=0.001, d2=0.001 g=5.989\n",
      ">19, 2/5, d1=0.001, d2=0.001 g=6.029\n",
      ">19, 3/5, d1=0.001, d2=0.001 g=6.018\n",
      ">19, 4/5, d1=0.001, d2=0.001 g=6.038\n",
      ">19, 5/5, d1=0.001, d2=0.001 g=6.036\n",
      ">20, 1/5, d1=0.001, d2=0.001 g=6.050\n",
      ">20, 2/5, d1=0.001, d2=0.001 g=6.081\n",
      ">20, 3/5, d1=0.001, d2=0.001 g=6.090\n",
      ">20, 4/5, d1=0.001, d2=0.001 g=6.075\n",
      ">20, 5/5, d1=0.001, d2=0.001 g=6.097\n"
     ]
    }
   ],
   "source": [
    "# size of the latent space\n",
    "latent_dim = 100\n",
    "# create the discriminator\n",
    "discriminator = define_discriminator()\n",
    "# create the generator\n",
    "generator = define_generator(latent_dim)\n",
    "# create the gan\n",
    "gan_model = define_gan(generator, discriminator)\n",
    "# load data\n",
    "dataset = load_real_samples()\n",
    "\n",
    "dataset = np.reshape(dataset,(dataset.shape[0],dataset.shape[1],1))\n",
    "\n",
    "# train model\n",
    "model,d_model= train(generator, discriminator, gan_model, dataset, latent_dim)"
   ]
  },
  {
   "cell_type": "code",
   "execution_count": null,
   "metadata": {},
   "outputs": [],
   "source": []
  },
  {
   "cell_type": "code",
   "execution_count": null,
   "metadata": {},
   "outputs": [],
   "source": []
  },
  {
   "cell_type": "code",
   "execution_count": null,
   "metadata": {},
   "outputs": [],
   "source": []
  },
  {
   "cell_type": "code",
   "execution_count": null,
   "metadata": {},
   "outputs": [],
   "source": []
  },
  {
   "cell_type": "code",
   "execution_count": null,
   "metadata": {},
   "outputs": [],
   "source": []
  },
  {
   "cell_type": "code",
   "execution_count": null,
   "metadata": {},
   "outputs": [],
   "source": []
  },
  {
   "cell_type": "code",
   "execution_count": null,
   "metadata": {},
   "outputs": [],
   "source": []
  },
  {
   "cell_type": "code",
   "execution_count": null,
   "metadata": {},
   "outputs": [],
   "source": []
  },
  {
   "cell_type": "code",
   "execution_count": null,
   "metadata": {},
   "outputs": [],
   "source": []
  }
 ],
 "metadata": {
  "kernelspec": {
   "display_name": "Python 3",
   "language": "python",
   "name": "python3"
  },
  "language_info": {
   "codemirror_mode": {
    "name": "ipython",
    "version": 3
   },
   "file_extension": ".py",
   "mimetype": "text/x-python",
   "name": "python",
   "nbconvert_exporter": "python",
   "pygments_lexer": "ipython3",
   "version": "3.6.5"
  }
 },
 "nbformat": 4,
 "nbformat_minor": 2
}
